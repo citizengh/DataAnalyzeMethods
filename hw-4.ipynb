{
 "cells": [
  {
   "cell_type": "markdown",
   "id": "9ab9c324",
   "metadata": {},
   "source": [
    "1. Написать приложение, которое собирает основные новости с сайта lenta.ru. Для парсинга использовать Xpath. \n",
    "-источник;\n",
    "-новость\n",
    "-ссылка;\n",
    "-дата.\n"
   ]
  },
  {
   "cell_type": "code",
   "execution_count": 1,
   "id": "822ac09a",
   "metadata": {},
   "outputs": [],
   "source": [
    "from pprint import pprint\n",
    "from lxml import html\n",
    "from pymongo import MongoClient\n",
    "import requests\n"
   ]
  },
  {
   "cell_type": "code",
   "execution_count": 4,
   "id": "2b27c4bd",
   "metadata": {},
   "outputs": [],
   "source": [
    "header = {'User-Agent': 'Mozilla/5.0 (Windows NT 10.0; Win64; x64; rv:108.0) Gecko/20100101 Firefox/108.0'}\n",
    "url = 'https://lenta.ru/'\n",
    "response = requests.get(url,header)\n"
   ]
  },
  {
   "cell_type": "code",
   "execution_count": 5,
   "id": "4d36289f",
   "metadata": {},
   "outputs": [],
   "source": [
    "dom = html.fromstring(response.content.decode('utf-8'))"
   ]
  },
  {
   "cell_type": "code",
   "execution_count": 6,
   "id": "20050120",
   "metadata": {},
   "outputs": [],
   "source": [
    "topnews = dom.xpath(\"//a[@class='card-mini _topnews']\")"
   ]
  },
  {
   "cell_type": "code",
   "execution_count": 24,
   "id": "62d207ee",
   "metadata": {
    "scrolled": false
   },
   "outputs": [
    {
     "data": {
      "text/plain": [
       "[{'link': ['/news/2022/12/27/empatia/'],\n",
       "  'time': ['20:02'],\n",
       "  'text': ['Доказано преимущество женщин в когнитивной эмпатии']},\n",
       " {'link': ['/news/2022/12/27/dobr/'],\n",
       "  'time': ['20:01'],\n",
       "  'text': ['В российском регионе добровольцу СВО отказали в снятии судимости']},\n",
       " {'link': ['/news/2022/12/27/fin/'],\n",
       "  'time': ['19:55'],\n",
       "  'text': ['Брат Билли Айлиш прокомментировал ее роман с фронтменом The Neighbourhood']},\n",
       " {'link': ['https://moslenta.ru/news/city/razborki-avtomobilistov-27-12-2022.htm'],\n",
       "  'time': ['19:49'],\n",
       "  'text': ['Необычные разборки автомобилистов за первоочередность проезда попали на видео']},\n",
       " {'link': ['/news/2022/12/27/osvob/'],\n",
       "  'time': ['19:48'],\n",
       "  'text': ['Похитившую россиянина и вымогавшую деньги за его освобождение банду задержали']},\n",
       " {'link': ['/news/2022/12/27/bulgarianscandal/'],\n",
       "  'time': ['19:47'],\n",
       "  'text': ['МИД Болгарии вызвал российского посла']},\n",
       " {'link': ['/news/2022/12/27/creditpain/'],\n",
       "  'time': ['19:45'],\n",
       "  'text': ['В России предложили ввести кредиты для малоимущих']},\n",
       " {'link': ['/news/2022/12/27/rosa/'],\n",
       "  'time': ['19:44'],\n",
       "  'text': ['Открытие сезона на «Розе Хутор» перенесли из-за теплой погоды']},\n",
       " {'link': ['/news/2022/12/27/zel_meloni_priem/'],\n",
       "  'time': ['19:41'],\n",
       "  'text': ['В Италии отчитались перед Зеленским о передаче ЗРК Patriot']},\n",
       " {'link': ['/news/2022/12/27/skonchalsya/'],\n",
       "  'time': ['19:39'],\n",
       "  'text': ['Один из пострадавших при обрушении стены балкона в Краснодаре скончался']},\n",
       " {'link': ['/news/2022/12/27/krykov/'],\n",
       "  'time': ['19:31'],\n",
       "  'text': ['Олимпийский чемпион назвал виновного в столкновении Большунова и Устюгова']},\n",
       " {'link': ['/news/2022/12/27/obmen_ukr/'],\n",
       "  'time': ['19:13'],\n",
       "  'text': ['На Украине сообщили об обмене телами погибших с Россией']}]"
      ]
     },
     "execution_count": 24,
     "metadata": {},
     "output_type": "execute_result"
    }
   ],
   "source": [
    "news_list = []\n",
    "i = 1\n",
    "for news in topnews:\n",
    "    \n",
    "    \n",
    "    \n",
    "    link =  news.xpath(\"@href\") \n",
    "    time = news.xpath(\"div/div/time/text()\")\n",
    "    text = news.xpath(\"div/span/text()\")\n",
    "    \n",
    "   \n",
    "    news_list.append( {\n",
    "        'link' : link ,\n",
    "        'time' : time,\n",
    "        'text' : text\n",
    "     })\n",
    "    i+=1\n",
    "\n",
    "news_list"
   ]
  },
  {
   "cell_type": "markdown",
   "id": "0b61c5e5",
   "metadata": {},
   "source": [
    "2. Сложить собранные новости в БД"
   ]
  },
  {
   "cell_type": "code",
   "execution_count": 19,
   "id": "70edf7dc",
   "metadata": {},
   "outputs": [],
   "source": [
    "client = MongoClient('127.0.0.1',27017)"
   ]
  },
  {
   "cell_type": "code",
   "execution_count": 20,
   "id": "a6bb3e56",
   "metadata": {},
   "outputs": [
    {
     "data": {
      "text/plain": [
       "['admin', 'config', 'local']"
      ]
     },
     "execution_count": 20,
     "metadata": {},
     "output_type": "execute_result"
    }
   ],
   "source": [
    "client.list_database_names()"
   ]
  },
  {
   "cell_type": "code",
   "execution_count": 21,
   "id": "48a70a8a",
   "metadata": {},
   "outputs": [],
   "source": [
    "db = client.db_lenta"
   ]
  },
  {
   "cell_type": "code",
   "execution_count": 25,
   "id": "7b63293a",
   "metadata": {},
   "outputs": [
    {
     "data": {
      "text/plain": [
       "<pymongo.results.InsertManyResult at 0x1981d8444c0>"
      ]
     },
     "execution_count": 25,
     "metadata": {},
     "output_type": "execute_result"
    }
   ],
   "source": [
    "db.news.insert_many(news_list)"
   ]
  },
  {
   "cell_type": "code",
   "execution_count": 26,
   "id": "d65baad1",
   "metadata": {},
   "outputs": [
    {
     "data": {
      "text/plain": [
       "<pymongo.cursor.Cursor at 0x1981d8a68e0>"
      ]
     },
     "execution_count": 26,
     "metadata": {},
     "output_type": "execute_result"
    }
   ],
   "source": [
    "db.news.find()"
   ]
  },
  {
   "cell_type": "code",
   "execution_count": 28,
   "id": "42c63188",
   "metadata": {},
   "outputs": [
    {
     "name": "stdout",
     "output_type": "stream",
     "text": [
      "{'_id': ObjectId('63ab28d64a99ba26ebd6faa4'),\n",
      " 'link': ['/news/2022/12/27/empatia/'],\n",
      " 'text': ['Доказано преимущество женщин в когнитивной эмпатии'],\n",
      " 'time': ['20:02']}\n",
      "{'_id': ObjectId('63ab28d64a99ba26ebd6faa5'),\n",
      " 'link': ['/news/2022/12/27/dobr/'],\n",
      " 'text': ['В российском регионе добровольцу СВО отказали в снятии судимости'],\n",
      " 'time': ['20:01']}\n",
      "{'_id': ObjectId('63ab28d64a99ba26ebd6faa6'),\n",
      " 'link': ['/news/2022/12/27/fin/'],\n",
      " 'text': ['Брат Билли Айлиш прокомментировал ее роман с фронтменом The '\n",
      "          'Neighbourhood'],\n",
      " 'time': ['19:55']}\n",
      "{'_id': ObjectId('63ab28d64a99ba26ebd6faa7'),\n",
      " 'link': ['https://moslenta.ru/news/city/razborki-avtomobilistov-27-12-2022.htm'],\n",
      " 'text': ['Необычные разборки автомобилистов за первоочередность проезда '\n",
      "          'попали на видео'],\n",
      " 'time': ['19:49']}\n",
      "{'_id': ObjectId('63ab28d64a99ba26ebd6faa8'),\n",
      " 'link': ['/news/2022/12/27/osvob/'],\n",
      " 'text': ['Похитившую россиянина и вымогавшую деньги за его освобождение банду '\n",
      "          'задержали'],\n",
      " 'time': ['19:48']}\n",
      "{'_id': ObjectId('63ab28d64a99ba26ebd6faa9'),\n",
      " 'link': ['/news/2022/12/27/bulgarianscandal/'],\n",
      " 'text': ['МИД Болгарии вызвал российского посла'],\n",
      " 'time': ['19:47']}\n",
      "{'_id': ObjectId('63ab28d64a99ba26ebd6faaa'),\n",
      " 'link': ['/news/2022/12/27/creditpain/'],\n",
      " 'text': ['В России предложили ввести кредиты для малоимущих'],\n",
      " 'time': ['19:45']}\n",
      "{'_id': ObjectId('63ab28d64a99ba26ebd6faab'),\n",
      " 'link': ['/news/2022/12/27/rosa/'],\n",
      " 'text': ['Открытие сезона на «Розе Хутор» перенесли из-за теплой погоды'],\n",
      " 'time': ['19:44']}\n",
      "{'_id': ObjectId('63ab28d64a99ba26ebd6faac'),\n",
      " 'link': ['/news/2022/12/27/zel_meloni_priem/'],\n",
      " 'text': ['В Италии отчитались перед Зеленским о передаче ЗРК Patriot'],\n",
      " 'time': ['19:41']}\n",
      "{'_id': ObjectId('63ab28d64a99ba26ebd6faad'),\n",
      " 'link': ['/news/2022/12/27/skonchalsya/'],\n",
      " 'text': ['Один из пострадавших при обрушении стены балкона в Краснодаре '\n",
      "          'скончался'],\n",
      " 'time': ['19:39']}\n",
      "{'_id': ObjectId('63ab28d64a99ba26ebd6faae'),\n",
      " 'link': ['/news/2022/12/27/krykov/'],\n",
      " 'text': ['Олимпийский чемпион назвал виновного в столкновении Большунова и '\n",
      "          'Устюгова'],\n",
      " 'time': ['19:31']}\n",
      "{'_id': ObjectId('63ab28d64a99ba26ebd6faaf'),\n",
      " 'link': ['/news/2022/12/27/obmen_ukr/'],\n",
      " 'text': ['На Украине сообщили об обмене телами погибших с Россией'],\n",
      " 'time': ['19:13']}\n"
     ]
    }
   ],
   "source": [
    "for doc in db.news.find():\n",
    "    pprint(doc)"
   ]
  },
  {
   "cell_type": "code",
   "execution_count": null,
   "id": "25eea4dd",
   "metadata": {},
   "outputs": [],
   "source": []
  }
 ],
 "metadata": {
  "kernelspec": {
   "display_name": "Python 3 (ipykernel)",
   "language": "python",
   "name": "python3"
  },
  "language_info": {
   "codemirror_mode": {
    "name": "ipython",
    "version": 3
   },
   "file_extension": ".py",
   "mimetype": "text/x-python",
   "name": "python",
   "nbconvert_exporter": "python",
   "pygments_lexer": "ipython3",
   "version": "3.9.12"
  }
 },
 "nbformat": 4,
 "nbformat_minor": 5
}
