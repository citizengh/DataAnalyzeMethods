{
 "cells": [
  {
   "cell_type": "markdown",
   "id": "9ab9c324",
   "metadata": {},
   "source": [
    "Написать приложение или функцию, которые собирают основные новости с сайта lenta.ru. Для парсинга использовать Xpath. \n",
    "-источник;\n",
    "-новость\n",
    "-ссылка;\n",
    "-дата.\n"
   ]
  },
  {
   "cell_type": "code",
   "execution_count": 74,
   "id": "822ac09a",
   "metadata": {},
   "outputs": [],
   "source": [
    "from pprint import pprint\n",
    "from lxml import html\n",
    "import requests\n"
   ]
  },
  {
   "cell_type": "code",
   "execution_count": 75,
   "id": "2b27c4bd",
   "metadata": {},
   "outputs": [],
   "source": [
    "header = {'User-Agent': 'Mozilla/5.0 (Windows NT 10.0; Win64; x64; rv:108.0) Gecko/20100101 Firefox/108.0'}\n",
    "url = 'https://lenta.ru/'\n",
    "response = requests.get(url,header)\n"
   ]
  },
  {
   "cell_type": "code",
   "execution_count": 76,
   "id": "4d36289f",
   "metadata": {},
   "outputs": [],
   "source": [
    "dom = html.fromstring(response.content.decode('utf-8'))"
   ]
  },
  {
   "cell_type": "code",
   "execution_count": 77,
   "id": "20050120",
   "metadata": {},
   "outputs": [],
   "source": [
    "topnews = dom.xpath(\"//a[@class='card-mini _topnews']\")"
   ]
  },
  {
   "cell_type": "code",
   "execution_count": 78,
   "id": "62d207ee",
   "metadata": {
    "scrolled": false
   },
   "outputs": [
    {
     "data": {
      "text/plain": [
       "{1: {'link': ['/news/2022/12/21/priletel/'],\n",
       "  'time': ['21:04'],\n",
       "  'text': ['Раскрыты детали прибытия Зеленского в США']},\n",
       " 2: {'link': ['/news/2022/12/21/ronaldoalnasr/'],\n",
       "  'time': ['21:04'],\n",
       "  'text': ['Появились новые подробности переговоров Роналду с саудовским клубом']},\n",
       " 3: {'link': ['https://moslenta.ru/news/city/oslojneniya-ot-svinogo-grippa-21-12-2022.htm'],\n",
       "  'time': ['20:54'],\n",
       "  'text': ['В Роспотребнадзоре предупредили об осложнениях от свиного гриппа']},\n",
       " 4: {'link': ['/news/2022/12/21/obsh/'],\n",
       "  'time': ['20:51'],\n",
       "  'text': ['Российский студент открыл стрельбу в общежитии']},\n",
       " 5: {'link': ['/news/2022/12/21/fashionmodel/'],\n",
       "  'time': ['20:50'],\n",
       "  'text': ['Объявлена лучшая модель 2022 года']},\n",
       " 6: {'link': ['/news/2022/12/21/zele/'],\n",
       "  'time': ['20:49'],\n",
       "  'text': ['В поездке Зеленского в Бахмут усомнились']},\n",
       " 7: {'link': ['/news/2022/12/21/not_our_side/'],\n",
       "  'time': ['20:49'],\n",
       "  'text': ['Ситуацию с глобальной проблемой описали фразой «время не на нашей стороне»']},\n",
       " 8: {'link': ['/news/2022/12/21/happynewyear/'],\n",
       "  'time': ['20:48'],\n",
       "  'text': ['Консультант по отношениям дала советы семьям на время праздников']},\n",
       " 9: {'link': ['/news/2022/12/21/gosdep_us/'],\n",
       "  'time': ['20:47'],\n",
       "  'text': ['Раскрыто содержание пакета военной помощи США Украине на миллиард долларов']},\n",
       " 10: {'link': ['/news/2022/12/21/savemoney/'],\n",
       "  'time': ['20:44'],\n",
       "  'text': ['Женщина нашла необычный способ сэкономить на аренде и коммунальных услугах']},\n",
       " 11: {'link': ['/news/2022/12/21/hole/'],\n",
       "  'time': ['20:43'],\n",
       "  'text': ['Обнаружено необычное разрушение звезды черной дырой']},\n",
       " 12: {'link': ['/news/2022/12/21/okok/'],\n",
       "  'time': ['20:28'],\n",
       "  'text': ['«Одноклассники» представили масштабное обновление']}}"
      ]
     },
     "execution_count": 78,
     "metadata": {},
     "output_type": "execute_result"
    }
   ],
   "source": [
    "news_dict = {}\n",
    "i = 1\n",
    "for news in topnews:\n",
    "    link =  news.xpath(\"@href\") \n",
    "    time = news.xpath(\"div/div/time/text()\")\n",
    "    text = news.xpath(\"div/span/text()\")\n",
    "    news_dict[i] = {\n",
    "        'link' : link ,\n",
    "        'time' : time,\n",
    "        'text' : text\n",
    "     }\n",
    "    i+=1\n",
    "\n",
    "news_dict"
   ]
  },
  {
   "cell_type": "code",
   "execution_count": null,
   "id": "ccf96822",
   "metadata": {},
   "outputs": [],
   "source": []
  }
 ],
 "metadata": {
  "kernelspec": {
   "display_name": "Python 3 (ipykernel)",
   "language": "python",
   "name": "python3"
  },
  "language_info": {
   "codemirror_mode": {
    "name": "ipython",
    "version": 3
   },
   "file_extension": ".py",
   "mimetype": "text/x-python",
   "name": "python",
   "nbconvert_exporter": "python",
   "pygments_lexer": "ipython3",
   "version": "3.9.12"
  }
 },
 "nbformat": 4,
 "nbformat_minor": 5
}
